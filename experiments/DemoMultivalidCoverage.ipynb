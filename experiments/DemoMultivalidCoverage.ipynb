{
  "nbformat": 4,
  "nbformat_minor": 0,
  "metadata": {
    "colab": {
      "name": "DemoMultivalidCoverage.ipynb",
      "provenance": [],
      "collapsed_sections": []
    },
    "kernelspec": {
      "name": "python3",
      "display_name": "Python 3"
    },
    "language_info": {
      "name": "python"
    },
    "gpuClass": "standard"
  },
  "cells": [
    {
      "cell_type": "markdown",
      "source": [
        "##### Setup"
      ],
      "metadata": {
        "id": "X2oi8d1M1iQN"
      }
    },
    {
      "cell_type": "markdown",
      "source": [
        "In addition to standard imports below, make sure to include src in the path so that multivalid tools can be imported."
      ],
      "metadata": {
        "id": "Op0D0beyViTQ"
      }
    },
    {
      "cell_type": "code",
      "execution_count": 18,
      "metadata": {
        "id": "SxnwCwzkh_j1"
      },
      "outputs": [],
      "source": [
        "import numpy as np\n",
        "from sklearn.model_selection import train_test_split\n",
        "import matplotlib.pyplot as plt"
      ]
    },
    {
      "cell_type": "markdown",
      "source": [
        "##### Dataset/task construction"
      ],
      "metadata": {
        "id": "WlGj72Q78Rfd"
      }
    },
    {
      "cell_type": "markdown",
      "source": [
        "We will aim to achieve $\\tau$-coverage that holds conditional on groups $g \\in \\mathcal{G}$, for some collection $\\mathcal{G}$ of subsets of the covariate space. \n",
        "\n",
        "In the experiments below, we use $\\tau = 0.9$ (that is, we want to obtain $90\\%$ coverage conditional on every group). "
      ],
      "metadata": {
        "id": "9PSl36Kk1oVv"
      }
    },
    {
      "cell_type": "code",
      "source": [
        "tau = 0.9\n",
        "num_groups = 15\n",
        "num_grid = 100"
      ],
      "metadata": {
        "id": "i4edVU5i2Lrr"
      },
      "execution_count": 19,
      "outputs": []
    },
    {
      "cell_type": "markdown",
      "source": [
        "Our synthetic dataset $\\{(x_i, y_i)\\}_{i=1}^{10000} \\in (\\mathbb{Z}_+ \\times \\mathbb{R})^{10000}$ is generated as follows.\n",
        "\n",
        "First, we define our group collection as $\\mathcal{G} = \\{g_1, \\ldots, g_{10}\\}$, where for each $j = 1, \\ldots, 10$, the group $g_j = \\{j, 2j, 3j, \\ldots\\} \\subset \\mathbb{Z}_+$ contains all multiples of $j$. Note that group $g_1$ encompasses the entire covariate space, thus enforcing the *marginal* coverage guarantee.\n",
        "\n",
        "Each $x_i$ is a random integer sampled from the range $[1, 5000)$. \n",
        "\n",
        "We let the corresponding label $y_i$ be the sum of $n(x_i)$ iid. $\\mathcal{N}(0, 1)$ random variables, where $n(x_i)$ is the number of groups that $x_i$ belongs to.\n",
        "\n",
        "After generating our data, we split it into $80\\%$ training data $\\mathcal{D}_{train}$ and $20\\%$ test data $\\mathcal{D}_{test}$."
      ],
      "metadata": {
        "id": "U6x6P9ex3Znd"
      }
    },
    {
      "cell_type": "markdown",
      "source": [
        "Here, $g(x) \\in \\{0, 1\\}^{|\\mathcal{G}}$ is the vector that indicates which groups $x$ belongs to: namely, $g(x)[j] = \\mathbf{1}[x \\in g_j]$ for all $j = 1 \\ldots |\\mathcal{G}|$."
      ],
      "metadata": {
        "id": "6q8mUsAa8KkD"
      }
    },
    {
      "cell_type": "code",
      "source": [
        "from DatasetGeneration.DivisibleDataset import divisible_dataset\n",
        "\n",
        "size = 10000\n",
        "x, y, g = divisible_dataset(size=size, num_groups=num_groups)\n",
        "\n",
        "x_train, x_test, y_train, y_test = train_test_split(x, y, test_size=0.2, random_state=42)"
      ],
      "metadata": {
        "id": "AMdbjrN0iNaE"
      },
      "execution_count": 20,
      "outputs": []
    },
    {
      "cell_type": "markdown",
      "source": [
        "##### Multivalid coverage"
      ],
      "metadata": {
        "id": "Ncef4ynIGMFC"
      }
    },
    {
      "cell_type": "code",
      "source": [
        "from MultivalidAlgorithms.MultivalidCoverage import multivalid_coverage, eval_fn\n",
        "\n",
        "patches = multivalid_coverage(tau=tau, x_train=x_train, y_train=y_train, num_grid=num_grid, group_fn=g)\n",
        "multivalid_model = lambda x: eval_fn(x, patches=patches, num_grid=num_grid, group_fn=g)"
      ],
      "metadata": {
        "colab": {
          "base_uri": "https://localhost:8080/"
        },
        "id": "JzT_QpNfxGx0",
        "outputId": "59626012-fb35-4e3d-ea7e-72d114aa8070"
      },
      "execution_count": 21,
      "outputs": [
        {
          "output_type": "stream",
          "name": "stdout",
          "text": [
            "Max violation in round 0  :  6449.436125\n",
            "Update: (0, 0, 75)\n",
            "Max violation in round 1  :  27.326795338674458\n",
            "Update: (5, 75, 81)\n",
            "Max violation in round 2  :  9.78905839746489\n",
            "Update: (0, 75, 72)\n",
            "Max violation in round 3  :  14.590843373493978\n",
            "Update: (3, 72, 77)\n",
            "Max violation in round 4  :  4.57996282527881\n",
            "Update: (14, 72, 78)\n",
            "Max violation in round 5  :  4.653876739562618\n",
            "Update: (0, 72, 70)\n",
            "Max violation in round 6  :  7.364196891191715\n",
            "Update: (13, 70, 79)\n",
            "Max violation in round 7  :  2.4979646017699104\n",
            "Update: (8, 70, 74)\n",
            "Max violation in round 8  :  2.2699224806201563\n",
            "Update: (9, 70, 74)\n",
            "Max violation in round 9  :  3.0650943396226467\n",
            "Update: (0, 70, 68)\n",
            "Max violation in round 10  :  2.8800000000000003\n",
            "Update: (12, 68, 72)\n",
            "Max violation in round 11  :  1.825280898876406\n",
            "Update: (6, 68, 72)\n",
            "Max violation in round 12  :  1.4459039629736727\n",
            "Update: (0, 68, 67)\n",
            "Max violation in round 13  :  1.81091388400703\n",
            "Update: (2, 67, 70)\n",
            "Max violation in round 14  :  1.238240997229915\n",
            "Update: (0, 67, 66)\n",
            "Max violation in round 15  :  2.6188413098236833\n",
            "Update: (1, 66, 69)\n",
            "Max violation in round 16  :  1.5190830945558753\n",
            "Update: (0, 66, 64)\n",
            "Max violation in round 17  :  1.9111764705882393\n",
            "Update: (4, 64, 68)\n",
            "Max violation in round 18  :  0.9204166666666663\n",
            "Update: (4, 72, 75)\n",
            "Max violation in round 19  :  0.7722049131216302\n",
            "Update: (0, 64, 63)\n",
            "Max violation in round 20  :  0.886402877697842\n",
            "Update: (10, 63, 67)\n",
            "Max violation in round 21  :  0.7200000000000002\n",
            "Update: (10, 68, 73)\n",
            "Max violation in round 22  :  0.463497536945814\n",
            "Update: (6, 77, 80)\n",
            "Max violation in round 23  :  0.44473684210526304\n",
            "Update: (10, 77, 80)\n",
            "Max violation in round 24  :  0.5592233009708711\n",
            "Update: (0, 77, 76)\n",
            "Max violation in round 25  :  0.4393220338983056\n",
            "Update: (10, 81, 83)\n",
            "Max violation in round 26  :  0.43592178770949885\n",
            "Update: (7, 76, 77)\n",
            "Max violation in round 27  :  0.835882352941175\n",
            "Update: (0, 76, 74)\n",
            "Max violation in round 28  :  0.39340425531914963\n",
            "Update: (4, 79, 81)\n",
            "Max violation in round 29  :  0.34882882882882954\n",
            "Update: (6, 81, 83)\n",
            "Max violation in round 30  :  0.5333333333333349\n",
            "Update: (0, 81, 80)\n",
            "Max violation in round 31  :  0.46944162436548326\n",
            "Update: (7, 80, 82)\n",
            "Max violation in round 32  :  0.4634042553191495\n",
            "Update: (8, 83, 85)\n",
            "Max violation in round 33  :  0.32000000000000056\n",
            "Update: (3, 85, 86)\n",
            "Max violation in round 34  :  0.32000000000000006\n",
            "Update: (12, 86, 83)\n",
            "Max violation in round 35  :  0.32000000000000006\n"
          ]
        }
      ]
    },
    {
      "cell_type": "code",
      "source": [
        "from utils.MultivalidPlotting import plot_group_coverage\n",
        "\n",
        "plot_group_coverage(model=multivalid_model, tau=tau, x_test=x_test, y_test=y_test, num_groups=num_groups, group_fn=g, multivalid=False, verbose=True)"
      ],
      "metadata": {
        "colab": {
          "base_uri": "https://localhost:8080/",
          "height": 718
        },
        "id": "zGb7SLoG0KnG",
        "outputId": "5c5d4f81-5eb4-4ef0-80b0-557433e54bfa"
      },
      "execution_count": 22,
      "outputs": [
        {
          "output_type": "display_data",
          "data": {
            "text/plain": [
              "<Figure size 720x504 with 1 Axes>"
            ],
            "image/png": "[encoded data removed]"
          },
          "metadata": {
            "needs_background": "light"
          }
        },
        {
          "output_type": "stream",
          "name": "stdout",
          "text": [
            "Coverage on group 1 : 0.9045\n",
            "Coverage on group 2 : 0.9125514403292181\n",
            "Coverage on group 3 : 0.9108761329305136\n",
            "Coverage on group 4 : 0.9006211180124224\n",
            "Coverage on group 5 : 0.8733509234828496\n",
            "Coverage on group 6 : 0.9292929292929293\n",
            "Coverage on group 7 : 0.9243421052631579\n",
            "Coverage on group 8 : 0.899581589958159\n",
            "Coverage on group 9 : 0.8923766816143498\n",
            "Coverage on group 10 : 0.8494623655913979\n",
            "Coverage on group 11 : 0.9044943820224719\n",
            "Coverage on group 12 : 0.8848920863309353\n",
            "Coverage on group 13 : 0.9084507042253521\n",
            "Coverage on group 14 : 0.9433962264150944\n",
            "Coverage on group 15 : 0.8951612903225806\n"
          ]
        }
      ]
    },
    {
      "cell_type": "code",
      "source": [
        "plot_group_coverage(model=multivalid_model, tau=tau, x_test=x_test, y_test=y_test, num_groups=num_groups, group_fn=g, multivalid=True, num_grid=num_grid, verbose=True)"
      ],
      "metadata": {
        "colab": {
          "base_uri": "https://localhost:8080/",
          "height": 718
        },
        "id": "30brFCTHIoMf",
        "outputId": "2f13e912-6134-49c2-cd62-ddb0a892a1a2"
      },
      "execution_count": 23,
      "outputs": [
        {
          "output_type": "display_data",
          "data": {
            "text/plain": [
              "<Figure size 720x504 with 1 Axes>"
            ],
            "image/png": "[encoded data removed]"
          },
          "metadata": {
            "needs_background": "light"
          }
        },
        {
          "output_type": "stream",
          "name": "stdout",
          "text": [
            "Performance on group 1 : 0.0007918227790855672\n",
            "Performance on group 2 : 0.0005986842954308617\n",
            "Performance on group 3 : 0.00048635317744601884\n",
            "Performance on group 4 : 6.091510344557488e-05\n",
            "Performance on group 5 : 0.0007506567449798507\n",
            "Performance on group 6 : 0.0003643082013183837\n",
            "Performance on group 7 : 0.0004018520443520443\n",
            "Performance on group 8 : 4.654773541870314e-05\n",
            "Performance on group 9 : 0.0002830914047193118\n",
            "Performance on group 10 : 0.0005896923756255518\n",
            "Performance on group 11 : 0.00036638030828820277\n",
            "Performance on group 12 : 7.297613673979108e-05\n",
            "Performance on group 13 : 0.00043537800363887316\n",
            "Performance on group 14 : 0.0002491666666666666\n",
            "Performance on group 15 : 0.00044932604735883403\n"
          ]
        }
      ]
    },
    {
      "cell_type": "markdown",
      "source": [
        "##### Group-only (not multivalid) coverage"
      ],
      "metadata": {
        "id": "SnhOos6sj2ZY"
      }
    },
    {
      "cell_type": "code",
      "source": [
        "!pip install optax\n",
        "\n",
        "from MultivalidAlgorithms.GroupCoverage import group_coverage"
      ],
      "metadata": {
        "id": "hFN49RwGj-wP",
        "colab": {
          "base_uri": "https://localhost:8080/"
        },
        "outputId": "f79953d7-8202-498d-9889-12626fa1f8a6"
      },
      "execution_count": 24,
      "outputs": [
        {
          "output_type": "stream",
          "name": "stdout",
          "text": [
            "Looking in indexes: https://pypi.org/simple, https://us-python.pkg.dev/colab-wheels/public/simple/\n",
            "Requirement already satisfied: optax in /usr/local/lib/python3.7/dist-packages (0.1.3)\n",
            "Requirement already satisfied: jax>=0.1.55 in /usr/local/lib/python3.7/dist-packages (from optax) (0.3.14)\n",
            "Requirement already satisfied: absl-py>=0.7.1 in /usr/local/lib/python3.7/dist-packages (from optax) (1.2.0)\n",
            "Requirement already satisfied: chex>=0.0.4 in /usr/local/lib/python3.7/dist-packages (from optax) (0.1.3)\n",
            "Requirement already satisfied: typing-extensions>=3.10.0 in /usr/local/lib/python3.7/dist-packages (from optax) (4.1.1)\n",
            "Requirement already satisfied: jaxlib>=0.1.37 in /usr/local/lib/python3.7/dist-packages (from optax) (0.3.14+cuda11.cudnn805)\n",
            "Requirement already satisfied: numpy>=1.18.0 in /usr/local/lib/python3.7/dist-packages (from optax) (1.21.6)\n",
            "Requirement already satisfied: toolz>=0.9.0 in /usr/local/lib/python3.7/dist-packages (from chex>=0.0.4->optax) (0.12.0)\n",
            "Requirement already satisfied: dm-tree>=0.1.5 in /usr/local/lib/python3.7/dist-packages (from chex>=0.0.4->optax) (0.1.7)\n",
            "Requirement already satisfied: opt-einsum in /usr/local/lib/python3.7/dist-packages (from jax>=0.1.55->optax) (3.3.0)\n",
            "Requirement already satisfied: etils[epath] in /usr/local/lib/python3.7/dist-packages (from jax>=0.1.55->optax) (0.6.0)\n",
            "Requirement already satisfied: scipy>=1.5 in /usr/local/lib/python3.7/dist-packages (from jax>=0.1.55->optax) (1.7.3)\n",
            "Requirement already satisfied: flatbuffers<3.0,>=1.12 in /usr/local/lib/python3.7/dist-packages (from jaxlib>=0.1.37->optax) (2.0)\n",
            "Requirement already satisfied: importlib_resources in /usr/local/lib/python3.7/dist-packages (from etils[epath]->jax>=0.1.55->optax) (5.9.0)\n",
            "Requirement already satisfied: zipp in /usr/local/lib/python3.7/dist-packages (from etils[epath]->jax>=0.1.55->optax) (3.8.1)\n"
          ]
        }
      ]
    },
    {
      "cell_type": "code",
      "source": [
        "group_model, theta_opt = group_coverage(tau=tau, x_train=x_train, y_train=y_train, num_groups=num_groups, group_fn=g)"
      ],
      "metadata": {
        "colab": {
          "base_uri": "https://localhost:8080/"
        },
        "id": "urF9tvCDGbMl",
        "outputId": "cc4ef4a0-e60f-417e-d145-a00673505c8d"
      },
      "execution_count": 25,
      "outputs": [
        {
          "output_type": "stream",
          "name": "stdout",
          "text": [
            "\n",
            "Optimal theta found: [ 0.6351701   0.06942544  0.07058934  0.03890205  0.05674157 -0.00216989\n",
            "  0.05116966  0.02595287  0.02349506 -0.02406407  0.03343523 -0.02168043\n",
            "  0.03828627  0.00748974 -0.00160039]\n"
          ]
        }
      ]
    },
    {
      "cell_type": "code",
      "source": [
        "plot_group_coverage(model=group_model, tau=tau, x_test=x_test, y_test=y_test, num_groups=num_groups, group_fn=g, multivalid=False, verbose=True)"
      ],
      "metadata": {
        "colab": {
          "base_uri": "https://localhost:8080/",
          "height": 718
        },
        "id": "NRMz9MYqG8vh",
        "outputId": "361e75b8-f30a-4a0f-b93b-a83a78475a60"
      },
      "execution_count": 26,
      "outputs": [
        {
          "output_type": "display_data",
          "data": {
            "text/plain": [
              "<Figure size 720x504 with 1 Axes>"
            ],
            "image/png": "[encoded data removed]"
          },
          "metadata": {
            "needs_background": "light"
          }
        },
        {
          "output_type": "stream",
          "name": "stdout",
          "text": [
            "Coverage on group 1 : 0.909\n",
            "Coverage on group 2 : 0.9207818930041153\n",
            "Coverage on group 3 : 0.9274924471299094\n",
            "Coverage on group 4 : 0.9233954451345756\n",
            "Coverage on group 5 : 0.899736147757256\n",
            "Coverage on group 6 : 0.9427609427609428\n",
            "Coverage on group 7 : 0.9342105263157895\n",
            "Coverage on group 8 : 0.9330543933054394\n",
            "Coverage on group 9 : 0.9327354260089686\n",
            "Coverage on group 10 : 0.9032258064516129\n",
            "Coverage on group 11 : 0.9157303370786517\n",
            "Coverage on group 12 : 0.935251798561151\n",
            "Coverage on group 13 : 0.9084507042253521\n",
            "Coverage on group 14 : 0.9433962264150944\n",
            "Coverage on group 15 : 0.9274193548387096\n"
          ]
        }
      ]
    },
    {
      "cell_type": "code",
      "source": [
        "plot_group_coverage(model=group_model, tau=tau, x_test=x_test, y_test=y_test, num_groups=num_groups, group_fn=g, multivalid=True, num_grid=num_grid, verbose=True)"
      ],
      "metadata": {
        "colab": {
          "base_uri": "https://localhost:8080/",
          "height": 718
        },
        "id": "KOJCwJzGJ4IO",
        "outputId": "c4ca18f7-0aba-4912-a3cc-9624ffab8a2a"
      },
      "execution_count": 27,
      "outputs": [
        {
          "output_type": "display_data",
          "data": {
            "text/plain": [
              "<Figure size 720x504 with 1 Axes>"
            ],
            "image/png": "[encoded data removed]"
          },
          "metadata": {
            "needs_background": "light"
          }
        },
        {
          "output_type": "stream",
          "name": "stdout",
          "text": [
            "Performance on group 1 : 0.001266091978569711\n",
            "Performance on group 2 : 0.000978558224467286\n",
            "Performance on group 3 : 0.0010529156642946973\n",
            "Performance on group 4 : 0.0005205724198340388\n",
            "Performance on group 5 : 0.0007793438307724022\n",
            "Performance on group 6 : 0.0008031997791886439\n",
            "Performance on group 7 : 0.0004842995111783357\n",
            "Performance on group 8 : 0.00026699900202996167\n",
            "Performance on group 9 : 0.00045496673824260014\n",
            "Performance on group 10 : 0.0006450966183574879\n",
            "Performance on group 11 : 0.0004917054325103861\n",
            "Performance on group 12 : 0.00033195652173913026\n",
            "Performance on group 13 : 0.000895958485958486\n",
            "Performance on group 14 : 0.00031818229506111977\n",
            "Performance on group 15 : 0.0004443055555555557\n"
          ]
        }
      ]
    }
  ]
}