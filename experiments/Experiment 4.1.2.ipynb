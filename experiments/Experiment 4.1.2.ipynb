{
 "cells": [
  {
   "cell_type": "markdown",
   "metadata": {},
   "source": [
    "## Imports and preliminaries"
   ]
  },
  {
   "cell_type": "code",
   "execution_count": 1,
   "metadata": {
    "colab": {
     "base_uri": "https://localhost:8080/"
    },
    "executionInfo": {
     "elapsed": 23548,
     "status": "ok",
     "timestamp": 1648492251609,
     "user": {
      "displayName": "DaEto Georgy",
      "userId": "07578216823519586108"
     },
     "user_tz": 240
    },
    "id": "zAOPTJsJylLV",
    "outputId": "780637ec-b5ad-4bd7-8589-9da90bca9e46"
   },
   "outputs": [],
   "source": [
    "import sys, os\n",
    "sys.path.append(os.path.join(os.getcwd(), '../src'))\n",
    "import numpy as np\n",
    "import matplotlib.pyplot as plt\n",
    "from sklearn.model_selection import train_test_split\n",
    "\n",
    "from recursiveLeastSquares import *\n",
    "from CalibrationScorers.customResidualCalibrationScorer import customResidualCalibrationScorer\n",
    "from MultivalidAlgorithms.MultivalidCoverage import multivalid_coverage, eval_fn\n",
    "from DatasetGeneration.DivisibleDataset import divisible_dataset\n",
    "from MultivalidAlgorithms.GroupCoverage import group_coverage"
   ]
  },
  {
   "cell_type": "code",
   "execution_count": 3,
   "metadata": {},
   "outputs": [],
   "source": [
    "def produce_group(feat_index, feat_value):\n",
    "    '''\n",
    "        Input: \n",
    "            - feat_index: index of desired input feature\n",
    "            - feat_value: desired value of that feature\n",
    "        Output:\n",
    "            - f - function which defines a group; f(x) returns True\n",
    "                  iff x[feat_index] == feat_value and returns False otherwise.\n",
    "    '''\n",
    "    def f(x):\n",
    "      return (x[feat_index] == feat_value)\n",
    "    \n",
    "    return f\n",
    "\n",
    "# Define group that includes all points\n",
    "def all_points(x):\n",
    "    return True\n",
    "\n",
    "basic_group = [all_points]\n",
    "\n",
    "# Define 20 overlapping sub-groups - each defined by the value of a single binary feature\n",
    "\n",
    "twenty_groups = list()\n",
    "num_groups = 0\n",
    "for i in range(10):\n",
    "    for j in range(2):\n",
    "        curr_group = produce_group(i, j)\n",
    "        twenty_groups.append(curr_group)\n",
    "        \n",
    "group_fn_twenty_groups =(lambda x: [group(x) for group in twenty_groups])\n",
    "\n",
    "num_groups = len(twenty_groups)"
   ]
  },
  {
   "cell_type": "markdown",
   "metadata": {},
   "source": [
    "## Synthetic Experiment with groups - Split-Conformal vs. MVP: Single trial"
   ]
  },
  {
   "cell_type": "markdown",
   "metadata": {},
   "source": [
    "##### Set all parameters for a single trial"
   ]
  },
  {
   "cell_type": "code",
   "execution_count": 4,
   "metadata": {
    "executionInfo": {
     "elapsed": 8,
     "status": "ok",
     "timestamp": 1648492392939,
     "user": {
      "displayName": "DaEto Georgy",
      "userId": "07578216823519586108"
     },
     "user_tz": 240
    },
    "id": "mNqAcKetylLY"
   },
   "outputs": [],
   "source": [
    "# Parameters for our uncertainty quantifier\n",
    "T = 40000\n",
    "tau = 0.9\n",
    "delta = 0.1\n",
    "num_grid = 100\n",
    "\n",
    "# Parameters for data generation\n",
    "x_std = 0.1\n",
    "y_std = 0.25\n",
    "d = 100 # choose d > 10"
   ]
  },
  {
   "cell_type": "markdown",
   "metadata": {},
   "source": [
    "##### Generating data according to ordinary least-squares model - with some groups adding label-noise (of increasing amount) and others not affecting noise."
   ]
  },
  {
   "cell_type": "code",
   "execution_count": 5,
   "metadata": {
    "executionInfo": {
     "elapsed": 11,
     "status": "ok",
     "timestamp": 1648492395061,
     "user": {
      "displayName": "DaEto Georgy",
      "userId": "07578216823519586108"
     },
     "user_tz": 240
    },
    "id": "yZXQudeJylLZ"
   },
   "outputs": [],
   "source": [
    "theta = np.random.normal(loc=np.zeros(d), scale=x_std)\n",
    "\n",
    "# d-dimension features - first 10 features are binary\n",
    "xs_binvars = np.random.randint(low = 0, high = 2, size = (T, 10))\n",
    "xs_remvars = np.random.normal(loc=np.zeros(d - 10), scale=x_std, size=(T, d - 10))\n",
    "xs = np.concatenate((xs_binvars, xs_remvars), axis = 1)\n",
    "std_dev_list = np.array([1.0, 2.0, 3.0, 4.0, 5.0, 6.0, 7.0, 8.0, 9.0, 10.0])\n",
    "std_dev = np.dot(xs_binvars, std_dev_list) + y_std\n",
    "ys = np.dot(xs, theta) + np.random.normal(loc=0, scale= std_dev, size=T)\n",
    "\n",
    "x_train, x_test, y_train, y_test = train_test_split(xs, ys, test_size=0.5, random_state=42)"
   ]
  },
  {
   "cell_type": "code",
   "execution_count": null,
   "metadata": {},
   "outputs": [],
   "source": [
    "# Separate training data into training (for point-predictor) and calibration\n",
    "calibration_set_size = 15000\n",
    "train_set_size = len(y_train) - calibration_set_size\n",
    "x_train_final = x_train[ : train_set_size]\n",
    "x_calib = x_train[train_set_size : ]\n",
    "y_train_final = y_train[ : train_set_size]\n",
    "y_calib = y_train[train_set_size : ]"
   ]
  },
  {
   "cell_type": "code",
   "execution_count": null,
   "metadata": {},
   "outputs": [],
   "source": [
    "# Train point-predictor using x_train_final and y_train_final\n",
    "myRLS = RLS(d, 1.0, 1)\n",
    "for i in range(train_set_size):\n",
    "    myRLS.add_obs(x_train_final[i], y_train_final[i])"
   ]
  },
  {
   "cell_type": "code",
   "execution_count": null,
   "metadata": {},
   "outputs": [],
   "source": [
    "# Convert y_calib values into threshold values in order to train for conformal prediction \n",
    "mult_factor = 250\n",
    "residualCalibrationScorer = customResidualCalibrationScorer(mult_factor)\n",
    "residualCalibrationScorer.update(myRLS.predict)\n",
    "\n",
    "# These are the scores which we want to achieve threshold-calibration with respect to\n",
    "w_calib = np.array([residualCalibrationScorer.calc_score(x_calib[i], y_calib[i]) for i in range(calibration_set_size)])\n",
    "w_test = np.array([residualCalibrationScorer.calc_score(x_test[i], y_test[i]) for i in range(len(y_test))])"
   ]
  },
  {
   "cell_type": "code",
   "execution_count": null,
   "metadata": {},
   "outputs": [],
   "source": [
    "# Iterative algorithm for multivalidity \n",
    "patches, num_steps = multivalid_coverage(tau=tau, x_train=x_calib, y_train=w_calib, num_grid=num_grid, group_fn=group_fn_twenty_groups)\n",
    "multivalid_model = lambda x: eval_fn(x, patches=patches, num_grid=num_grid, group_fn=group_fn_twenty_groups)"
   ]
  },
  {
   "cell_type": "code",
   "execution_count": null,
   "metadata": {},
   "outputs": [],
   "source": [
    "# One-shot algorithm for group coverage\n",
    "group_accurate_model, opt_theta = group_coverage(tau=tau, x_train=x_calib, y_train=w_calib, num_groups=num_groups, group_fn=group_fn_twenty_groups, epochs=75, batch_size = 1024, lr = 0.001)"
   ]
  },
  {
   "cell_type": "code",
   "execution_count": null,
   "metadata": {},
   "outputs": [],
   "source": [
    "from utils.MultivalidPlotting import plot_group_coverage\n",
    "\n",
    "plot_group_coverage(model=group_accurate_model, tau=tau, x_test=x_test, y_test=w_test, num_groups=num_groups, group_fn=group_fn_twenty_groups, multivalid=False, verbose=True)"
   ]
  },
  {
   "cell_type": "code",
   "execution_count": null,
   "metadata": {},
   "outputs": [],
   "source": [
    "from utils.MultivalidPlotting import plot_pred_set_size\n",
    "\n",
    "plot_pred_set_size(model=group_accurate_model, tau=tau, x_test=x_test, y_test=w_test, num_groups=num_groups, group_fn=group_fn_twenty_groups, mult_width = mult_factor, multivalid=False, verbose=True)"
   ]
  }
 ],
 "metadata": {
  "colab": {
   "name": "Linear Regression Experiment.ipynb",
   "provenance": []
  },
  "kernelspec": {
   "display_name": "Python 3 (ipykernel)",
   "language": "python",
   "name": "python3"
  },
  "language_info": {
   "codemirror_mode": {
    "name": "ipython",
    "version": 3
   },
   "file_extension": ".py",
   "mimetype": "text/x-python",
   "name": "python",
   "nbconvert_exporter": "python",
   "pygments_lexer": "ipython3",
   "version": "3.9.7"
  }
 },
 "nbformat": 4,
 "nbformat_minor": 1
}
