{
 "cells": [
  {
   "cell_type": "markdown",
   "metadata": {},
   "source": [
    "## Imports and preliminaries"
   ]
  },
  {
   "cell_type": "code",
   "execution_count": 2,
   "metadata": {
    "colab": {
     "base_uri": "https://localhost:8080/"
    },
    "executionInfo": {
     "elapsed": 23548,
     "status": "ok",
     "timestamp": 1648492251609,
     "user": {
      "displayName": "DaEto Georgy",
      "userId": "07578216823519586108"
     },
     "user_tz": 240
    },
    "id": "zAOPTJsJylLV",
    "outputId": "780637ec-b5ad-4bd7-8589-9da90bca9e46"
   },
   "outputs": [],
   "source": [
    "import sys, os\n",
    "sys.path.append(os.path.join(os.getcwd(), '../src'))\n",
    "import numpy as np\n",
    "import matplotlib.pyplot as plt\n",
    "from sklearn.model_selection import train_test_split\n",
    "\n",
    "!pip install optax\n",
    "\n",
    "import splitConformalPrediction\n",
    "from recursiveLeastSquares import *\n",
    "from CalibrationScorers.customResidualCalibrationScorer import customResidualCalibrationScorer\n",
    "from MultivalidAlgorithms.MultivalidCoverage import multivalid_coverage, eval_fn\n",
    "from DatasetGeneration.DivisibleDataset import divisible_dataset\n",
    "from MultivalidAlgorithms.GroupCoverage import group_coverage"
   ]
  },
  {
   "cell_type": "code",
   "execution_count": 2,
   "metadata": {},
   "outputs": [],
   "source": [
    "def produce_group(feat_index, feat_value):\n",
    "    '''\n",
    "        Input: \n",
    "            - feat_index: index of desired input feature\n",
    "            - feat_value: desired value of that feature\n",
    "        Output:\n",
    "            - f - function which defines a group; f(x) returns True\n",
    "                  iff x[feat_index] == feat_value and returns False otherwise.\n",
    "    '''\n",
    "    def f(x):\n",
    "      return (x[feat_index] == feat_value)\n",
    "    \n",
    "    return f\n",
    "\n",
    "# Define group that includes all points\n",
    "def all_points(x):\n",
    "    return True\n",
    "\n",
    "basic_group = [all_points]\n",
    "\n",
    "# Define 20 overlapping sub-groups - each defined by the value of a single binary feature\n",
    "\n",
    "twenty_groups = list()\n",
    "num_groups = 0\n",
    "for i in range(10):\n",
    "    for j in range(2):\n",
    "        curr_group = produce_group(i, j)\n",
    "        twenty_groups.append(curr_group)\n",
    "        \n",
    "group_fn_twenty_groups =(lambda x: [group(x) for group in twenty_groups])\n",
    "\n",
    "num_groups = len(twenty_groups)"
   ]
  },
  {
   "cell_type": "markdown",
   "metadata": {},
   "source": [
    "## Synthetic Experiment with groups - Comparing conformal prediction methods: Single trial"
   ]
  },
  {
   "cell_type": "markdown",
   "metadata": {},
   "source": [
    "##### Set all parameters for a single trial"
   ]
  },
  {
   "cell_type": "code",
   "execution_count": 3,
   "metadata": {
    "executionInfo": {
     "elapsed": 8,
     "status": "ok",
     "timestamp": 1648492392939,
     "user": {
      "displayName": "DaEto Georgy",
      "userId": "07578216823519586108"
     },
     "user_tz": 240
    },
    "id": "mNqAcKetylLY"
   },
   "outputs": [],
   "source": [
    "# Parameters for our uncertainty quantifier\n",
    "T = 40000\n",
    "tau = 0.9\n",
    "delta = 0.1\n",
    "num_grid = 100\n",
    "\n",
    "# Parameters for data generation\n",
    "x_std = 0.1\n",
    "y_std = 0.25\n",
    "d = 100 # choose d > 10"
   ]
  },
  {
   "cell_type": "markdown",
   "metadata": {},
   "source": [
    "##### Generating data according to ordinary least-squares model - with some groups adding label-noise (of increasing amount) and others not affecting noise."
   ]
  },
  {
   "cell_type": "code",
   "execution_count": 4,
   "metadata": {
    "executionInfo": {
     "elapsed": 11,
     "status": "ok",
     "timestamp": 1648492395061,
     "user": {
      "displayName": "DaEto Georgy",
      "userId": "07578216823519586108"
     },
     "user_tz": 240
    },
    "id": "yZXQudeJylLZ"
   },
   "outputs": [],
   "source": [
    "theta = np.random.normal(loc=np.zeros(d), scale=x_std)\n",
    "\n",
    "# d-dimension features - first 10 features are binary\n",
    "xs_binvars = np.random.randint(low = 0, high = 2, size = (T, 10))\n",
    "xs_remvars = np.random.normal(loc=np.zeros(d - 10), scale=x_std, size=(T, d - 10))\n",
    "xs = np.concatenate((xs_binvars, xs_remvars), axis = 1)\n",
    "std_dev_list = np.array([1.0, 2.0, 3.0, 4.0, 5.0, 6.0, 7.0, 8.0, 9.0, 10.0])\n",
    "std_dev = np.dot(xs_binvars, std_dev_list) + y_std\n",
    "ys = np.dot(xs, theta) + np.random.normal(loc=0, scale= std_dev, size=T)\n",
    "\n",
    "x_train, x_test, y_train, y_test = train_test_split(xs, ys, test_size=0.5, random_state=42)"
   ]
  },
  {
   "cell_type": "code",
   "execution_count": 5,
   "metadata": {},
   "outputs": [],
   "source": [
    "# Separate training data into training (for point-predictor) and calibration\n",
    "calibration_set_size = 15000\n",
    "train_set_size = len(y_train) - calibration_set_size\n",
    "x_train_final = x_train[ : train_set_size]\n",
    "x_calib = x_train[train_set_size : ]\n",
    "y_train_final = y_train[ : train_set_size]\n",
    "y_calib = y_train[train_set_size : ]"
   ]
  },
  {
   "cell_type": "code",
   "execution_count": 6,
   "metadata": {},
   "outputs": [],
   "source": [
    "# Train point-predictor using x_train_final and y_train_final\n",
    "myRLS = RLS(d, 1.0, 1)\n",
    "for i in range(train_set_size):\n",
    "    myRLS.add_obs(x_train_final[i], y_train_final[i])"
   ]
  },
  {
   "cell_type": "code",
   "execution_count": 7,
   "metadata": {},
   "outputs": [],
   "source": [
    "# Convert y_calib values into threshold values in order to train for conformal prediction \n",
    "mult_factor = 250\n",
    "residualCalibrationScorer = customResidualCalibrationScorer(mult_factor)\n",
    "residualCalibrationScorer.update(myRLS.predict)\n",
    "\n",
    "# These are the scores which we want to achieve threshold-calibration with respect to\n",
    "w_calib = np.array([residualCalibrationScorer.calc_score(x_calib[i], y_calib[i]) for i in range(calibration_set_size)])\n",
    "w_test = np.array([residualCalibrationScorer.calc_score(x_test[i], y_test[i]) for i in range(len(y_test))])"
   ]
  },
  {
   "cell_type": "markdown",
   "metadata": {},
   "source": [
    "##### Run each of the 4 methods using x_calib and w_calib to train conformal predictors"
   ]
  },
  {
   "cell_type": "code",
   "execution_count": 8,
   "metadata": {},
   "outputs": [
    {
     "name": "stdout",
     "output_type": "stream",
     "text": [
      "Max violation in round 0  :  5686.337444769763\n",
      "Update: (17, 0, 22)\n",
      "Max violation in round 1  :  5398.9493401015225\n",
      "Update: (16, 0, 16)\n",
      "Max violation in round 2  :  11.072115280043509\n",
      "Update: (18, 16, 12)\n",
      "Max violation in round 3  :  15.805184404636465\n",
      "Update: (15, 16, 20)\n",
      "Max violation in round 4  :  7.382891440501038\n",
      "Update: (18, 22, 19)\n",
      "Max violation in round 5  :  14.85090660841073\n",
      "Update: (15, 22, 27)\n",
      "Max violation in round 6  :  5.8906194690265465\n",
      "Update: (15, 12, 13)\n",
      "Max violation in round 7  :  5.439313304721022\n",
      "Update: (10, 12, 8)\n",
      "Max violation in round 8  :  4.826475770925107\n",
      "Update: (11, 13, 16)\n",
      "Max violation in round 9  :  4.732661678246918\n",
      "Update: (14, 19, 15)\n",
      "Max violation in round 10  :  4.302250770811928\n",
      "Update: (13, 19, 22)\n",
      "Max violation in round 11  :  2.3386446886446848\n",
      "Update: (12, 16, 13)\n",
      "Max violation in round 12  :  3.7685955056179745\n",
      "Update: (9, 16, 20)\n",
      "Max violation in round 13  :  1.7294759825327561\n",
      "Update: (9, 13, 15)\n",
      "Max violation in round 14  :  2.6931905465287995\n",
      "Update: (10, 13, 10)\n",
      "Max violation in round 15  :  1.9959379407616393\n",
      "Update: (11, 15, 17)\n",
      "Max violation in round 16  :  2.101250000000001\n",
      "Update: (4, 15, 12)\n",
      "Max violation in round 17  :  1.688578553615959\n",
      "Update: (13, 12, 13)\n",
      "Max violation in round 18  :  2.012576687116559\n",
      "Update: (18, 12, 9)\n",
      "Max violation in round 19  :  1.5347008547008556\n",
      "Update: (12, 8, 6)\n",
      "Max violation in round 20  :  2.2115450643776833\n",
      "Update: (9, 8, 10)\n",
      "Max violation in round 21  :  1.6904184100418433\n",
      "Update: (9, 6, 7)\n",
      "Max violation in round 22  :  1.190206327372767\n",
      "Update: (11, 22, 23)\n",
      "Max violation in round 23  :  1.8408333333333329\n",
      "Update: (12, 22, 17)\n",
      "Max violation in round 24  :  1.0473376623376651\n",
      "Update: (7, 13, 15)\n",
      "Max violation in round 25  :  1.025641025641027\n",
      "Update: (7, 9, 10)\n",
      "Max violation in round 26  :  1.2033333333333316\n",
      "Update: (8, 9, 7)\n",
      "Max violation in round 27  :  0.989871244635195\n",
      "Update: (11, 20, 21)\n",
      "Max violation in round 28  :  1.2645161290322584\n",
      "Update: (0, 20, 18)\n",
      "Max violation in round 29  :  0.9508695652173911\n",
      "Update: (7, 12, 15)\n",
      "Max violation in round 30  :  0.9308130081300822\n",
      "Update: (7, 7, 8)\n",
      "Max violation in round 31  :  0.8496153846153849\n",
      "Update: (6, 6, 3)\n",
      "Max violation in round 32  :  0.8426548672566404\n",
      "Update: (7, 27, 30)\n",
      "Max violation in round 33  :  1.4210572687224654\n",
      "Update: (12, 27, 23)\n",
      "Max violation in round 34  :  0.8152320675105489\n",
      "Update: (6, 17, 15)\n",
      "Max violation in round 35  :  1.2267841409691622\n",
      "Update: (5, 17, 19)\n",
      "Max violation in round 36  :  0.9799999999999955\n",
      "Update: (8, 15, 13)\n",
      "Max violation in round 37  :  1.7419787985865733\n",
      "Update: (13, 15, 18)\n",
      "Max violation in round 38  :  0.7838860103626933\n",
      "Update: (4, 8, 7)\n",
      "Max violation in round 39  :  1.9129702970297033\n",
      "Update: (7, 8, 10)\n",
      "Max violation in round 40  :  0.802536023054757\n",
      "Update: (3, 10, 11)\n",
      "Max violation in round 41  :  0.7838709677419365\n",
      "Update: (9, 23, 25)\n",
      "Max violation in round 42  :  0.7056701030927826\n",
      "Update: (15, 23, 21)\n",
      "Max violation in round 43  :  0.6334020618556699\n",
      "Update: (10, 19, 18)\n",
      "Max violation in round 44  :  1.0126506024096373\n",
      "Update: (3, 19, 21)\n",
      "Max violation in round 45  :  0.5759999999999984\n",
      "Update: (2, 7, 5)\n",
      "Max violation in round 46  :  0.5157142857142859\n",
      "Update: (5, 9, 12)\n",
      "Max violation in round 47  :  0.4310256410256416\n"
     ]
    }
   ],
   "source": [
    "# Iterative algorithm for multivalidity \n",
    "patches = multivalid_coverage(tau=tau, x_train=x_calib, y_train=w_calib, num_grid=num_grid, group_fn=group_fn_twenty_groups)\n",
    "multivalid_model = lambda x: eval_fn(x, patches=patches, num_grid=num_grid, group_fn=group_fn_twenty_groups)"
   ]
  },
  {
   "cell_type": "code",
   "execution_count": null,
   "metadata": {},
   "outputs": [],
   "source": [
    "# One-shot algorithm for group coverage\n",
    "group_accurate_model, opt_theta = group_coverage(tau=tau, x_train=x_calib, y_train=w_calib, num_groups=num_groups, group_fn=group_fn_twenty_groups)"
   ]
  },
  {
   "cell_type": "code",
   "execution_count": 12,
   "metadata": {},
   "outputs": [],
   "source": [
    "# Training naive conformal predictor and conservative group-wise conformal predictor\n",
    "marginalConformalPredictor = splitConformalPrediction.splitConformal(1, basic_group, delta)\n",
    "groupConformalPredictor = splitConformalPrediction.splitConformal(num_groups, twenty_groups, delta)\n",
    "group_cov_marginal = np.zeros(num_groups)\n",
    "group_num_marginal = np.zeros(num_groups)\n",
    "group_cov_group = np.zeros(num_groups)\n",
    "group_num_group = np.zeros(num_groups)\n",
    "group_pred_set_size_marginal = np.zeros(num_groups)\n",
    "group_pred_set_size_group = np.zeros(num_groups)\n",
    "\n",
    "for i, curr_x in enumerate(x_calib):\n",
    "    curr_y = y_calib[i]\n",
    "    marginalConformalPredictor.update_calibration_data(curr_x, curr_y)\n",
    "    groupConformalPredictor.update_calibration_data(curr_x, curr_y)"
   ]
  },
  {
   "cell_type": "code",
   "execution_count": null,
   "metadata": {},
   "outputs": [],
   "source": [
    "# Running naive conformal predictor and conservative group-wise conformal predictor on test-data\n",
    "\n",
    "grid_size = 2 * num_grid\n",
    "marginal_sizes = np.zeros((num_groups, grid_size))\n",
    "marginal_coverage_total = np.zeros((num_groups, grid_size))\n",
    "conformal_sizes = np.zeros((num_groups, grid_size))\n",
    "conformal_coverage_total = np.zeros((num_groups, grid_size))\n",
    "\n",
    "for i, curr_x in enumerate(x_test):\n",
    "    curr_y = y_test[i]\n",
    "    curr_w = w_test[i]\n",
    "    w_marginal_conformal = marginalConformalPredictor.select_best_width(residualCalibrationScorer, curr_x)\n",
    "    w_group_conformal = groupConformalPredictor.select_best_width(residualCalibrationScorer, curr_x)\n",
    "    pred_index1 = int(w_marginal_conformal * grid_size)\n",
    "    pred_index2 = int(w_group_conformal * grid_size)\n",
    "    for j in range(num_groups):\n",
    "        if twenty_groups[j](curr_x) == True:\n",
    "            group_num_marginal[j] += 1\n",
    "            group_num_group[j] += 1\n",
    "            group_cov_marginal[j] += int(w_marginal_conformal > curr_w)\n",
    "            group_cov_group[j] += int(w_group_conformal > curr_w)\n",
    "            group_pred_set_size_marginal[j] += 2 * mult_factor * w_marginal_conformal\n",
    "            group_pred_set_size_group[j] += 2 * mult_factor * w_group_conformal\n",
    "            marginal_sizes[j][pred_index1] += 1\n",
    "            marginal_coverage_total[j][pred_index1] += int(w_marginal_conformal > curr_w)\n",
    "            conformal_sizes[j][pred_index2] += 1\n",
    "            conformal_coverage_total[j][pred_index2] += int(w_group_conformal > curr_w)\n",
    "\n",
    "marginal_conformal_coverage = [group_cov_marginal[j]/group_num_marginal[j] for j in range(num_groups)]\n",
    "group_conformal_coverage = [group_cov_group[j]/group_num_group[j] for j in range(num_groups)]\n",
    "marginal_conformal_size = [group_pred_set_size_marginal[j]/group_num_marginal[j] for j in range(num_groups)]\n",
    "group_conformal_size = [group_pred_set_size_group[j]/group_num_group[j] for j in range(num_groups)]"
   ]
  },
  {
   "cell_type": "markdown",
   "metadata": {},
   "source": [
    "## Plotting Results"
   ]
  },
  {
   "cell_type": "markdown",
   "metadata": {},
   "source": [
    "##### Plot single method results for either BatchGCP or BatchMVP"
   ]
  },
  {
   "cell_type": "code",
   "execution_count": 10,
   "metadata": {},
   "outputs": [
    {
     "data": {
      "image/png": "[encoded data removed]",
      "text/plain": [
       "<Figure size 720x504 with 1 Axes>"
      ]
     },
     "metadata": {
      "needs_background": "light"
     },
     "output_type": "display_data"
    },
    {
     "name": "stdout",
     "output_type": "stream",
     "text": [
      "Coverage on group 1 : 0.9015825914935707\n",
      "Coverage on group 2 : 0.8864509605662285\n",
      "Coverage on group 3 : 0.9006522829904666\n",
      "Coverage on group 4 : 0.887593423019432\n",
      "Coverage on group 5 : 0.9007793764988009\n",
      "Coverage on group 6 : 0.8874099279423538\n",
      "Coverage on group 7 : 0.9073073073073074\n",
      "Coverage on group 8 : 0.8809190809190809\n",
      "Coverage on group 9 : 0.9009764276555874\n",
      "Coverage on group 10 : 0.8870297130108509\n",
      "Coverage on group 11 : 0.9023859023859024\n",
      "Coverage on group 12 : 0.8856450146479442\n",
      "Coverage on group 13 : 0.9136400322841001\n",
      "Coverage on group 14 : 0.8749008723235527\n",
      "Coverage on group 15 : 0.8939771030363365\n",
      "Coverage on group 16 : 0.8942240080361628\n",
      "Coverage on group 17 : 0.8937256079255479\n",
      "Coverage on group 18 : 0.8944738682921954\n",
      "Coverage on group 19 : 0.8980942828485456\n",
      "Coverage on group 20 : 0.8901296111665005\n"
     ]
    }
   ],
   "source": [
    "from utils.MultivalidPlotting import plot_group_coverage, plot_all_group_coverage\n",
    "\n",
    "# To plot single method results - set model param to group_accurate_model, or to multivalid_model\n",
    "plot_group_coverage(model=multivalid_model, tau=tau, x_test=x_test, y_test=w_test, num_groups=num_groups, group_fn=group_fn_twenty_groups, multivalid=False, verbose=True)"
   ]
  },
  {
   "cell_type": "code",
   "execution_count": 11,
   "metadata": {},
   "outputs": [
    {
     "data": {
      "image/png": "[encoded data removed]",
      "text/plain": [
       "<Figure size 720x504 with 1 Axes>"
      ]
     },
     "metadata": {
      "needs_background": "light"
     },
     "output_type": "display_data"
    },
    {
     "name": "stdout",
     "output_type": "stream",
     "text": [
      "Average prediction set size on group 1 : 92.56330365974283\n",
      "Average prediction set size on group 2 : 92.98736097067746\n",
      "Average prediction set size on group 3 : 92.23858504766683\n",
      "Average prediction set size on group 4 : 93.30368709516692\n",
      "Average prediction set size on group 5 : 91.66616706634693\n",
      "Average prediction set size on group 6 : 93.88160528422738\n",
      "Average prediction set size on group 7 : 88.77577577577577\n",
      "Average prediction set size on group 8 : 96.76223776223776\n",
      "Average prediction set size on group 9 : 87.45561692474602\n",
      "Average prediction set size on group 10 : 98.24029003143697\n",
      "Average prediction set size on group 11 : 85.9021384021384\n",
      "Average prediction set size on group 12 : 99.78406909788868\n",
      "Average prediction set size on group 13 : 85.56093623890234\n",
      "Average prediction set size on group 14 : 99.85923869944489\n",
      "Average prediction set size on group 15 : 79.64285714285714\n",
      "Average prediction set size on group 16 : 106.02184831742842\n",
      "Average prediction set size on group 17 : 77.33638546982888\n",
      "Average prediction set size on group 18 : 108.188018387129\n",
      "Average prediction set size on group 19 : 77.4383149448345\n",
      "Average prediction set size on group 20 : 108.0159521435693\n"
     ]
    }
   ],
   "source": [
    "from utils.MultivalidPlotting import plot_pred_set_size, plot_all_pred_set_sizes\n",
    "\n",
    "plot_pred_set_size(model=multivalid_model, tau=tau, x_test=x_test, y_test=w_test, num_groups=num_groups, group_fn=group_fn_twenty_groups, mult_width = mult_factor, multivalid=False, verbose=True)"
   ]
  },
  {
   "cell_type": "markdown",
   "metadata": {},
   "source": [
    "##### Plot all method results against each other"
   ]
  },
  {
   "cell_type": "code",
   "execution_count": null,
   "metadata": {},
   "outputs": [],
   "source": [
    "# Plotting group-wise coverage\n",
    "\n",
    "plot_all_group_coverage(group_accurate_model, multivalid_model, tau, x_test, w_test, num_groups, group_fn_twenty_groups, marginal_conformal_coverage, group_conformal_coverage, multivalid=False, bar_width = 0.2)"
   ]
  },
  {
   "cell_type": "code",
   "execution_count": null,
   "metadata": {},
   "outputs": [],
   "source": [
    "# Plotting group-wise prediction set size\n",
    "\n",
    "plot_all_pred_set_sizes(group_accurate_model, multivalid_model, tau, x_test, y_test, num_groups, group_fn_twenty_groups, mult_factor, marginal_conformal_size, group_conformal_size, multivalid=False, bar_width=0.2)"
   ]
  },
  {
   "cell_type": "markdown",
   "metadata": {},
   "source": [
    "##### Scatterplot of group-threshold pair coverage against size"
   ]
  },
  {
   "cell_type": "code",
   "execution_count": null,
   "metadata": {},
   "outputs": [],
   "source": [
    "grid_size = 2 * num_grid\n",
    "multivalid_sizes = np.zeros((num_groups, grid_size))\n",
    "multivalid_coverage_total = np.zeros((num_groups, grid_size))\n",
    "group_sizes = np.zeros((num_groups, grid_size))\n",
    "group_coverage_total = np.zeros((num_groups, grid_size))\n",
    "\n",
    "group_accurate_multivalid_sizes = np.zeros(num_groups)\n",
    "group_accurate_multivalid_coverage = np.zeros(num_groups)\n",
    "group_accurate_multivalid_pred_set_size = np.zeros(num_groups)\n",
    "group_accurate_group_sizes = np.zeros(num_groups)\n",
    "group_accurate_group_coverage = np.zeros(num_groups)\n",
    "group_accurate_group_pred_set_size = np.zeros(num_groups)\n",
    "\n",
    "\n",
    "for i, test_val in enumerate(x_test):\n",
    "    pred1 = multivalid_model(test_val)\n",
    "    pred_index1 = int(pred1 * grid_size)\n",
    "    pred2 = group_accurate_model(test_val)\n",
    "    pred_index2 = int(pred2 * grid_size)\n",
    "    for k in range(num_groups):\n",
    "        if group_fn_twenty_groups(test_val)[k]:\n",
    "            multivalid_sizes[k][pred_index1] += 1\n",
    "            multivalid_coverage_total[k][pred_index1] += int(pred1 > w_test[i])\n",
    "            group_sizes[k][pred_index2] += 1\n",
    "            group_coverage_total[k][pred_index2] += int(pred2 > w_test[i])\n",
    "            group_accurate_multivalid_sizes[k] += 1\n",
    "            group_accurate_multivalid_coverage[k] += int(pred1 > w_test[i])\n",
    "            group_accurate_multivalid_pred_set_size[k] += (2 * pred1 * mult_factor)\n",
    "            group_accurate_group_sizes[k] += 1\n",
    "            group_accurate_group_coverage[k] += int(pred2 > w_test[i])\n",
    "            group_accurate_group_pred_set_size[k] += (2 * pred2 * mult_factor)\n",
    "\n",
    "final_group_coverage = [group_accurate_group_coverage[j]/group_accurate_group_sizes[j] for j in range(num_groups)]\n",
    "final_multivalid_coverage = [group_accurate_multivalid_coverage[j]/group_accurate_multivalid_sizes[j] for j in range(num_groups)]\n",
    "final_group_pred_set_size = [group_accurate_group_pred_set_size[j]/group_accurate_group_sizes[j] for j in range(num_groups)]\n",
    "final_multivalid_pred_set_size = [group_accurate_multivalid_pred_set_size[j]/group_accurate_multivalid_sizes[j] for j in range(num_groups)]   \n",
    "\n",
    "x_scatter1 = list()\n",
    "y_scatter1 = list()\n",
    "x_scatter2 = list()\n",
    "y_scatter2 = list()\n",
    "x_scatter3 = list()\n",
    "y_scatter3 = list()\n",
    "x_scatter4 = list()\n",
    "y_scatter4 = list()\n",
    "\n",
    "for k in range(num_groups):\n",
    "    for j in range(grid_size):\n",
    "        if multivalid_sizes[k][j] > 0:\n",
    "            x_scatter1.append(multivalid_sizes[k][j])\n",
    "            y_scatter1.append(multivalid_coverage_total[k][j] / multivalid_sizes[k][j])\n",
    "        if group_sizes[k][j] > 0:\n",
    "            x_scatter2.append(group_sizes[k][j])\n",
    "            y_scatter2.append(group_coverage_total[k][j] / group_sizes[k][j])\n",
    "        if marginal_sizes[k][j] > 0:\n",
    "            x_scatter3.append(marginal_sizes[k][j])\n",
    "            y_scatter3.append(marginal_coverage_total[k][j] / marginal_sizes[k][j])\n",
    "        if conformal_sizes[k][j] > 0:\n",
    "            x_scatter4.append(conformal_sizes[k][j])\n",
    "            y_scatter4.append(conformal_coverage_total[k][j] / conformal_sizes[k][j])"
   ]
  },
  {
   "cell_type": "code",
   "execution_count": null,
   "metadata": {},
   "outputs": [],
   "source": [
    "# Plot scatter\n",
    "plt.figure(figsize=(10, 7))\n",
    "plt.scatter(x_scatter3, y_scatter3, color='b', alpha = 0.5, label = 'Split-Conformal: Without groups')\n",
    "plt.scatter(x_scatter4, y_scatter4, color='m', alpha = 0.5, label = 'Split-Conformal: With groups, conservative approach')\n",
    "plt.scatter(x_scatter1, y_scatter1, color='g', alpha = 0.8, label = 'BatchMVP')\n",
    "plt.scatter(x_scatter2, y_scatter2, color='c', alpha = 0.5, label = 'BatchGCP')\n",
    "plt.axhline(y=tau, c='r', linestyle='--', linewidth=2)\n",
    "plt.text(810, tau + 0.02, '  target coverage')\n",
    "plt.xlabel('Size of group conditional on threshold')\n",
    "plt.ylabel('Realized threshold and group conditional coverage')\n",
    "plt.legend()\n",
    "plt.show()"
   ]
  }
 ],
 "metadata": {
  "colab": {
   "name": "Linear Regression Experiment.ipynb",
   "provenance": []
  },
  "kernelspec": {
   "display_name": "Python 3 (ipykernel)",
   "language": "python",
   "name": "python3"
  },
  "language_info": {
   "codemirror_mode": {
    "name": "ipython",
    "version": 3
   },
   "file_extension": ".py",
   "mimetype": "text/x-python",
   "name": "python",
   "nbconvert_exporter": "python",
   "pygments_lexer": "ipython3",
   "version": "3.9.12"
  }
 },
 "nbformat": 4,
 "nbformat_minor": 1
}
